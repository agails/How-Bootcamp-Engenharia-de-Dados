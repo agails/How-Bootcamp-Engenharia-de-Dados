{
  "nbformat": 4,
  "nbformat_minor": 0,
  "metadata": {
    "colab": {
      "name": "Aula1.ipynb",
      "provenance": [],
      "collapsed_sections": []
    },
    "kernelspec": {
      "name": "python3",
      "display_name": "Python 3"
    },
    "language_info": {
      "name": "python"
    }
  },
  "cells": [
    {
      "cell_type": "markdown",
      "metadata": {
        "id": "9oUDQZA4jm0-"
      },
      "source": [
        "# Aula 1 do Bootcamp Engenharia de Dados da How Bootcamps\n",
        "\n",
        "## Projeto Dados da LotoFácil\n",
        "\n",
        "### Objetivos da atividade\n",
        "- Ler um arquivo de dados para um dataframe\n",
        "- Tratar a informação recebida\n",
        "- Selecionar os dados necessários\n",
        "- Extrair informações dos dados\n",
        "- Automatizar o processo\n",
        "\n",
        "#### Exercicio 1\n",
        "\n",
        "A proposta do exercício é coletar os dados dos sorteios da Lotofácil disponibilizados pela CEF e responder as seguintes perguntas:\n",
        "- Qual o número mais sorteado e o menos sorteado?\n",
        "- Quais combinações de números Pares(p), Impares(i) e Primos(np) saem por sorteio?"
      ]
    },
    {
      "cell_type": "code",
      "metadata": {
        "id": "mjLnxHA7jZUW"
      },
      "source": [
        "# Importar as bibliotecas necessárias\n",
        "import requests\n",
        "import pandas as pd\n",
        "import collections"
      ],
      "execution_count": 1,
      "outputs": []
    },
    {
      "cell_type": "code",
      "metadata": {
        "id": "SdY3oIJEj56K"
      },
      "source": [
        "# armazenar a url dos resultados em uma variável \n",
        "url = 'http://loterias.caixa.gov.br/wps/portal/loterias/landing/lotofacil/!ut/p/a1/jc4xD4IwEAXgn9QHpQXGQg1QUXBAoYtpojFNLDoYB3-91ZgYB9G76ZLv5R7RpCd6NFd7MBd7Gs3xcWu-5UGNEgVUoyoGMW8o7eQ6QMI8GDzIC1FGcQ0gSkJUMitlnC6Aiv-Xx5cR-JXfEP1Jijb3pJFZCuoX7AWmKj7BRIfBl4zfL5KlmkGELAyUoBQrTjpnR-vsbb8jZ9f1sK27A6NCXAk!/dl5/d5/L2dBISEvZ0FBIS9nQSEh/pw/Z7_HGK818G0K85260Q5OIRSC42046/res/id=historicoHTML/c=cacheLevelPage/=/'"
      ],
      "execution_count": 2,
      "outputs": []
    },
    {
      "cell_type": "code",
      "metadata": {
        "id": "BxKoepeYkASe"
      },
      "source": [
        "# utilizando a função get da biblioteca requests armazenar os dados da url em uma outra variável\n",
        "data = requests.get(url)"
      ],
      "execution_count": 3,
      "outputs": []
    },
    {
      "cell_type": "code",
      "metadata": {
        "id": "4idX9e-ekLVe"
      },
      "source": [
        "# usando a função read_html da biblioteca pandas armazenar os dados em formato html em uma nova variável\n",
        "dataframe = pd.read_html(data.text)\n",
        "\n",
        "# para retornar os dados em um data frame formatado vamos realizar a cópia dos dados dentro da mesma variável\n",
        "dataframe=dataframe[0].copy()"
      ],
      "execution_count": 4,
      "outputs": []
    },
    {
      "cell_type": "code",
      "metadata": {
        "id": "aGURKGKDoSd2"
      },
      "source": [
        "#vamos chamar a veriavél para verificar como estão sendo retornados os dados\n",
        "# dataframe"
      ],
      "execution_count": 5,
      "outputs": []
    },
    {
      "cell_type": "code",
      "metadata": {
        "id": "kBYaNEmspLIU"
      },
      "source": [
        "# a Lotofácil tem uma população de 25 números e desses o apostador escolhe 15, \n",
        "# para continuarmos vamos criar a população dos 25 números usando uma lista preenchida utilizando range\n",
        "nr_pop = list(range(1,26))\n",
        "# Agora vamos definir os grupos dos Pares(p), Impares(i) e Primos(np) os quais devemos informar cada número\n",
        "nr_pares = [2, 4, 6, 8, 10 ,12, 14, 16, 18, 20, 22, 24]\n",
        "nr_impares = [1, 3, 5, 7, 9, 11, 13, 15, 17, 19, 21, 23, 25]\n",
        "nr_primos = [2, 3, 5, 7, 11, 13, 17, 19, 23]"
      ],
      "execution_count": 6,
      "outputs": []
    },
    {
      "cell_type": "code",
      "metadata": {
        "id": "hlN0W9e0qskK"
      },
      "source": [
        "# Vamos agora criar variaveis para cada combinação començando pela variavel que irá armazenar as combinações\n",
        "# de pares, impares e primos como uma lista\n",
        "comb = []\n",
        "\n",
        "# agora criaremos 25 variaveis para armazernar a quantidade de vezes que um determinado número aparece\n",
        "v_01 = 0\n",
        "v_02 = 0\n",
        "v_03 = 0\n",
        "v_04 = 0\n",
        "v_05 = 0\n",
        "v_06 = 0\n",
        "v_07 = 0\n",
        "v_08 = 0\n",
        "v_09 = 0\n",
        "v_10 = 0\n",
        "v_11 = 0\n",
        "v_12 = 0\n",
        "v_13 = 0\n",
        "v_14 = 0\n",
        "v_15 = 0\n",
        "v_16 = 0\n",
        "v_17 = 0\n",
        "v_18 = 0\n",
        "v_19 = 0\n",
        "v_20 = 0\n",
        "v_21 = 0\n",
        "v_22 = 0\n",
        "v_23 = 0\n",
        "v_24 = 0\n",
        "v_25 = 0"
      ],
      "execution_count": 7,
      "outputs": []
    },
    {
      "cell_type": "code",
      "metadata": {
        "id": "AD-K-bfiulUP"
      },
      "source": [
        "# preciso definir quais variaveis iremos interar no Data Frame vemos que os numeros sorteados são chamados de \n",
        "# bola 1, bola, 2, etc.. sendo assim vamos criar uma lista com os nomes desses campos\n",
        "\n",
        "lst_campos = ['Bola1','Bola2','Bola3','Bola4','Bola5',\n",
        "              'Bola6','Bola7','Bola8','Bola9','Bola10',\n",
        "              'Bola11','Bola12','Bola13','Bola14','Bola15']"
      ],
      "execution_count": 8,
      "outputs": []
    },
    {
      "cell_type": "code",
      "metadata": {
        "id": "cUrOgtz3wKqt"
      },
      "source": [
        "# Agora vamos realizar a iteração percorrendo o DF usando a função iterrows() e preenchendo as variaveis \n",
        "# v_pares, v_impares e v_primos que iremos inicializar com valor 0\n",
        " \n",
        "for index,row in dataframe.iterrows():\n",
        "  v_pares=0\n",
        "  v_impares=0\n",
        "  v_primos=0\n",
        "  for campo in lst_campos:\n",
        "    if row[campo] in nr_pares:\n",
        "      v_pares += 1\n",
        "    if row[campo] in nr_impares:\n",
        "      v_impares += 1\n",
        "    if row[campo] in nr_primos:\n",
        "      v_primos += 1\n",
        "    if row[campo] == 1:\n",
        "      v_01 += 1\n",
        "    if row[campo] == 2:\n",
        "      v_02 += 1\n",
        "    if row[campo] == 3:\n",
        "      v_03 += 1\n",
        "    if row[campo] == 4:\n",
        "      v_04 += 1\n",
        "    if row[campo] == 5:\n",
        "      v_05 += 1\n",
        "    if row[campo] == 6:\n",
        "      v_06 += 1\n",
        "    if row[campo] == 7:\n",
        "      v_07 += 1\n",
        "    if row[campo] == 8:\n",
        "      v_08 += 1\n",
        "    if row[campo] == 9:\n",
        "      v_09 += 1\n",
        "    if row[campo] == 10:\n",
        "      v_10 += 1\n",
        "    if row[campo] == 11:\n",
        "      v_11 += 1\n",
        "    if row[campo] == 12:\n",
        "      v_12 += 1\n",
        "    if row[campo] == 13:\n",
        "      v_13 += 1\n",
        "    if row[campo] == 14:\n",
        "      v_14 += 1\n",
        "    if row[campo] == 15:\n",
        "      v_15 += 1\n",
        "    if row[campo] == 16:\n",
        "      v_16 += 1\n",
        "    if row[campo] == 17:\n",
        "      v_17 += 1\n",
        "    if row[campo] == 18:\n",
        "      v_18 += 1\n",
        "    if row[campo] == 19:\n",
        "      v_19 += 1\n",
        "    if row[campo] == 20:\n",
        "      v_20 += 1\n",
        "    if row[campo] == 21:\n",
        "      v_21 += 1\n",
        "    if row[campo] == 22:\n",
        "      v_22 += 1\n",
        "    if row[campo] == 23:\n",
        "      v_23 += 1\n",
        "    if row[campo] == 24:\n",
        "      v_24 += 1\n",
        "    if row[campo] == 25:\n",
        "      v_25 += 1\n",
        "  comb.append(str(v_pares) + 'p-' + str(v_impares) + 'i-' + str(v_primos) + 'np')"
      ],
      "execution_count": 9,
      "outputs": []
    },
    {
      "cell_type": "code",
      "metadata": {
        "id": "wbZ2sSXB06Nu"
      },
      "source": [
        "# Agora vamos dar uma olhada na variável comb, podemos perceber que ela armazenou a combinação de numeros\n",
        "# pares, impares e primos em uma string\n",
        "# comb"
      ],
      "execution_count": 10,
      "outputs": []
    },
    {
      "cell_type": "code",
      "metadata": {
        "id": "3cuAtpEg1Yte"
      },
      "source": [
        "# agora vamos criar uma lista para armazenar a frequência que os numeros foram sorteados\n",
        "freq_nr = [\n",
        "           [1, v_01],\n",
        "           [2, v_02],\n",
        "           [3, v_03],\n",
        "           [4, v_04],\n",
        "           [5, v_05],\n",
        "           [6, v_06],\n",
        "           [7, v_07],\n",
        "           [8, v_08],\n",
        "           [9, v_09],\n",
        "           [10, v_10],\n",
        "           [11, v_11],\n",
        "           [12, v_12],\n",
        "           [13, v_13],\n",
        "           [14, v_14],\n",
        "           [15, v_15],\n",
        "           [16, v_16],\n",
        "           [17, v_17],\n",
        "           [18, v_18],\n",
        "           [19, v_19],\n",
        "           [20, v_20],\n",
        "           [21, v_21],\n",
        "           [22, v_22],\n",
        "           [23, v_23],\n",
        "           [24, v_24],\n",
        "           [25, v_25]\n",
        "           ]\n",
        "# e agora vamos ordenar a lista do que menos saiu para o que mais saiu usando a função sort\n",
        "freq_nr.sort(key=lambda tup: tup[1])"
      ],
      "execution_count": 11,
      "outputs": []
    },
    {
      "cell_type": "code",
      "metadata": {
        "id": "Mr7srrT72_ej"
      },
      "source": [
        "# vamos dar uma olhada nos resultados\n",
        "# freq_nr"
      ],
      "execution_count": 12,
      "outputs": []
    },
    {
      "cell_type": "code",
      "metadata": {
        "id": "GNvZeqO73L1D"
      },
      "source": [
        "# agora já podemos responder qual foi o número menos sorteado e o mais sorteado buscando o primeiro e o ultimo\n",
        "menos_freq = freq_nr[0] \n",
        "mais_freq = freq_nr[-1]"
      ],
      "execution_count": 13,
      "outputs": []
    },
    {
      "cell_type": "code",
      "metadata": {
        "id": "dBs2VLVk4Fks"
      },
      "source": [
        "counter = collections.Counter(comb)\n",
        "resultado=pd.DataFrame(counter.items(),columns=['Combinacao','Frequencia'])\n",
        "resultado['p_freq'] = resultado['Frequencia']/resultado['Frequencia'].sum()\n",
        "resultado = resultado.sort_values(by='p_freq')"
      ],
      "execution_count": 14,
      "outputs": []
    },
    {
      "cell_type": "code",
      "metadata": {
        "colab": {
          "base_uri": "https://localhost:8080/"
        },
        "id": "Mz2E42J-URdD",
        "outputId": "34f1e546-42fb-4bdf-e6d8-c6b1e398578c"
      },
      "source": [
        "# agora vamos mostrar o resultado final de uma forma amigavel\n",
        "\n",
        "print('''\n",
        "O número que mais foi sorteado foi o número: {}\n",
        "O número que menos foi sorteado foi o número: {}\n",
        "Acombinação de Pares(p), Impares(i) e Primos(np) mais frequente é :{} com uma frequencia de: {}%\n",
        "'''\n",
        ".format(mais_freq[0],menos_freq[0],resultado['Combinacao'].values[-1],round(resultado['p_freq'].values[-1]*100,2))\n",
        ")"
      ],
      "execution_count": 15,
      "outputs": [
        {
          "output_type": "stream",
          "text": [
            "\n",
            "O número que mais foi sorteado foi o número: 13\n",
            "O número que menos foi sorteado foi o número: 8\n",
            "Acombinação de Pares(p), Impares(i) e Primos(np) mais frequente é :7p-8i-6np com uma frequencia de: 10.64%\n",
            "\n"
          ],
          "name": "stdout"
        }
      ]
    }
  ]
}